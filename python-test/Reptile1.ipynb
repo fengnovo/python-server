{
 "cells": [
  {
   "cell_type": "code",
   "execution_count": 2,
   "metadata": {},
   "outputs": [
    {
     "name": "stdout",
     "output_type": "stream",
     "text": [
      "200\n"
     ]
    }
   ],
   "source": [
    "import requests\n",
    "r = requests.get('https://www.baidu.com')\n",
    "print(r.status_code)"
   ]
  },
  {
   "cell_type": "code",
   "execution_count": 3,
   "metadata": {},
   "outputs": [
    {
     "name": "stdout",
     "output_type": "stream",
     "text": [
      "<!DOCTYPE html>\n",
      "<!--STATUS OK--><html> <head><meta http-equiv=content-type content=text/html;charset=utf-8><meta http-equiv=X-UA-Compatible content=IE=Edge><meta content=always name=referrer><link rel=stylesheet type=text/css href=https://ss1.bdstatic.com/5eN1bjq8AAUYm2zgoY3K/r/www/cache/bdorz/baidu.min.css><title>ç¾åº¦ä¸ä¸ï¼ä½ å°±ç¥é</title></head> <body link=#0000cc> <div id=wrapper> <div id=head> <div class=head_wrapper> <div class=s_form> <div class=s_form_wrapper> <div id=lg> <img hidefocus=true src=//www.baidu.com/img/bd_logo1.png width=270 height=129> </div> <form id=form name=f action=//www.baidu.com/s class=fm> <input type=hidden name=bdorz_come value=1> <input type=hidden name=ie value=utf-8> <input type=hidden name=f value=8> <input type=hidden name=rsv_bp value=1> <input type=hidden name=rsv_idx value=1> <input type=hidden name=tn value=baidu><span class=\"bg s_ipt_wr\"><input id=kw name=wd class=s_ipt value maxlength=255 autocomplete=off autofocus=autofocus></span><span class=\"bg s_btn_wr\"><input type=submit id=su value=ç¾åº¦ä¸ä¸ class=\"bg s_btn\" autofocus></span> </form> </div> </div> <div id=u1> <a href=http://news.baidu.com name=tj_trnews class=mnav>æ°é»</a> <a href=https://www.hao123.com name=tj_trhao123 class=mnav>hao123</a> <a href=http://map.baidu.com name=tj_trmap class=mnav>å°å¾</a> <a href=http://v.baidu.com name=tj_trvideo class=mnav>è§é¢</a> <a href=http://tieba.baidu.com name=tj_trtieba class=mnav>è´´å§</a> <noscript> <a href=http://www.baidu.com/bdorz/login.gif?login&amp;tpl=mn&amp;u=http%3A%2F%2Fwww.baidu.com%2f%3fbdorz_come%3d1 name=tj_login class=lb>ç»å½</a> </noscript> <script>document.write('<a href=\"http://www.baidu.com/bdorz/login.gif?login&tpl=mn&u='+ encodeURIComponent(window.location.href+ (window.location.search === \"\" ? \"?\" : \"&\")+ \"bdorz_come=1\")+ '\" name=\"tj_login\" class=\"lb\">ç»å½</a>');\n",
      "                </script> <a href=//www.baidu.com/more/ name=tj_briicon class=bri style=\"display: block;\">æ´å¤äº§å</a> </div> </div> </div> <div id=ftCon> <div id=ftConw> <p id=lh> <a href=http://home.baidu.com>å",
      "³äºç¾åº¦</a> <a href=http://ir.baidu.com>About Baidu</a> </p> <p id=cp>&copy;2017&nbsp;Baidu&nbsp;<a href=http://www.baidu.com/duty/>ä½¿ç¨ç¾åº¦åå¿",
      "è¯»</a>&nbsp; <a href=http://jianyi.baidu.com/ class=cp-feedback>æè§åé¦</a>&nbsp;äº¬ICPè¯030173å·&nbsp; <img src=//www.baidu.com/img/gs.gif> </p> </div> </div> </div> </body> </html>\n",
      "\n"
     ]
    }
   ],
   "source": [
    "import requests\n",
    "r = requests.get('https://www.baidu.com')\n",
    "print(r.text)"
   ]
  },
  {
   "cell_type": "code",
   "execution_count": 4,
   "metadata": {},
   "outputs": [
    {
     "name": "stdout",
     "output_type": "stream",
     "text": [
      "ISO-8859-1\n"
     ]
    }
   ],
   "source": [
    "print(r.encoding)"
   ]
  },
  {
   "cell_type": "code",
   "execution_count": 6,
   "metadata": {},
   "outputs": [
    {
     "name": "stdout",
     "output_type": "stream",
     "text": [
      "{'Server': 'JDWS/2.0', 'Date': 'Sat, 07 Dec 2019 05:51:51 GMT', 'Content-Type': 'text/html; charset=gbk', 'Content-Length': '33023', 'Connection': 'keep-alive', 'Vary': 'Accept-Encoding', 'ser': '7.191', 'Expires': 'Sat, 07 Dec 2019 05:52:46 GMT', 'Cache-Control': 'max-age=60', 'Last-Modified': 'Sat, 07 Dec 2019 05:51:50 GMT', 'hh': '1-1', 'Content-Encoding': 'gzip', 'Via': 'BJ-Y-NX-106(EXPIRED), http/1.1 GZ-CT-2-JCS-48 ( [cRs f ])', 'Age': '5', 'Strict-Transport-Security': 'max-age=7776000'}\n"
     ]
    }
   ],
   "source": [
    "print(jd.headers)"
   ]
  },
  {
   "cell_type": "code",
   "execution_count": 8,
   "metadata": {},
   "outputs": [
    {
     "name": "stdout",
     "output_type": "stream",
     "text": [
      "utf-8\n"
     ]
    }
   ],
   "source": [
    "print(r.apparent_encoding)"
   ]
  },
  {
   "cell_type": "code",
   "execution_count": 9,
   "metadata": {},
   "outputs": [
    {
     "name": "stdout",
     "output_type": "stream",
     "text": [
      "<!DOCTYPE html>\n",
      "<!--STATUS OK--><html> <head><meta http-equiv=content-type content=text/html;charset=utf-8><meta http-equiv=X-UA-Compatible content=IE=Edge><meta content=always name=referrer><link rel=stylesheet type=text/css href=https://ss1.bdstatic.com/5eN1bjq8AAUYm2zgoY3K/r/www/cache/bdorz/baidu.min.css><title>百度一下，你就知道</title></head> <body link=#0000cc> <div id=wrapper> <div id=head> <div class=head_wrapper> <div class=s_form> <div class=s_form_wrapper> <div id=lg> <img hidefocus=true src=//www.baidu.com/img/bd_logo1.png width=270 height=129> </div> <form id=form name=f action=//www.baidu.com/s class=fm> <input type=hidden name=bdorz_come value=1> <input type=hidden name=ie value=utf-8> <input type=hidden name=f value=8> <input type=hidden name=rsv_bp value=1> <input type=hidden name=rsv_idx value=1> <input type=hidden name=tn value=baidu><span class=\"bg s_ipt_wr\"><input id=kw name=wd class=s_ipt value maxlength=255 autocomplete=off autofocus=autofocus></span><span class=\"bg s_btn_wr\"><input type=submit id=su value=百度一下 class=\"bg s_btn\" autofocus></span> </form> </div> </div> <div id=u1> <a href=http://news.baidu.com name=tj_trnews class=mnav>新闻</a> <a href=https://www.hao123.com name=tj_trhao123 class=mnav>hao123</a> <a href=http://map.baidu.com name=tj_trmap class=mnav>地图</a> <a href=http://v.baidu.com name=tj_trvideo class=mnav>视频</a> <a href=http://tieba.baidu.com name=tj_trtieba class=mnav>贴吧</a> <noscript> <a href=http://www.baidu.com/bdorz/login.gif?login&amp;tpl=mn&amp;u=http%3A%2F%2Fwww.baidu.com%2f%3fbdorz_come%3d1 name=tj_login class=lb>登录</a> </noscript> <script>document.write('<a href=\"http://www.baidu.com/bdorz/login.gif?login&tpl=mn&u='+ encodeURIComponent(window.location.href+ (window.location.search === \"\" ? \"?\" : \"&\")+ \"bdorz_come=1\")+ '\" name=\"tj_login\" class=\"lb\">登录</a>');\n",
      "                </script> <a href=//www.baidu.com/more/ name=tj_briicon class=bri style=\"display: block;\">更多产品</a> </div> </div> </div> <div id=ftCon> <div id=ftConw> <p id=lh> <a href=http://home.baidu.com>关于百度</a> <a href=http://ir.baidu.com>About Baidu</a> </p> <p id=cp>&copy;2017&nbsp;Baidu&nbsp;<a href=http://www.baidu.com/duty/>使用百度前必读</a>&nbsp; <a href=http://jianyi.baidu.com/ class=cp-feedback>意见反馈</a>&nbsp;京ICP证030173号&nbsp; <img src=//www.baidu.com/img/gs.gif> </p> </div> </div> </div> </body> </html>\n",
      "\n"
     ]
    }
   ],
   "source": [
    "r.encoding = r.apparent_encoding\n",
    "print(r.text)"
   ]
  },
  {
   "cell_type": "code",
   "execution_count": 10,
   "metadata": {},
   "outputs": [],
   "source": [
    "douban = requests.get('https://www.douban.com/note/742422285')"
   ]
  },
  {
   "cell_type": "code",
   "execution_count": 11,
   "metadata": {},
   "outputs": [
    {
     "name": "stdout",
     "output_type": "stream",
     "text": [
      "\n"
     ]
    }
   ],
   "source": [
    "print(douban.text)"
   ]
  },
  {
   "cell_type": "code",
   "execution_count": 12,
   "metadata": {},
   "outputs": [
    {
     "name": "stdout",
     "output_type": "stream",
     "text": [
      "418\n"
     ]
    }
   ],
   "source": [
    "print(douban.status_code)"
   ]
  },
  {
   "cell_type": "code",
   "execution_count": 13,
   "metadata": {},
   "outputs": [
    {
     "name": "stdout",
     "output_type": "stream",
     "text": [
      "{'User-Agent': 'python-requests/2.22.0', 'Accept-Encoding': 'gzip, deflate', 'Accept': '*/*', 'Connection': 'keep-alive'}\n"
     ]
    }
   ],
   "source": [
    "print(douban.request.headers)"
   ]
  },
  {
   "cell_type": "code",
   "execution_count": 14,
   "metadata": {},
   "outputs": [],
   "source": [
    "keyValue = {\n",
    "    'User-Agent': 'Mozilla/5.0'\n",
    "}"
   ]
  },
  {
   "cell_type": "code",
   "execution_count": 20,
   "metadata": {},
   "outputs": [
    {
     "data": {
      "text/plain": [
       "'<html>\\n<head>\\n<meta charset=\"utf-8\">\\n<title>菜鸟教程(runoob.com)</title>\\n</head>\\n<body>\\n    <h1>我的第一个标题</h1>\\n    <p>我的第一个段落</p>\\n    <p>我的第二个段落</p>\\n    <p>我的第三个段落</p>\\n</body>\\n</html>'"
      ]
     },
     "execution_count": 20,
     "metadata": {},
     "output_type": "execute_result"
    }
   ],
   "source": [
    "from bs4 import BeautifulSoup\n",
    "fout = open('test.txt', 'r', encoding = 'utf-8')\n",
    "fout.read()"
   ]
  },
  {
   "cell_type": "code",
   "execution_count": 24,
   "metadata": {},
   "outputs": [],
   "source": [
    "from bs4 import BeautifulSoup\n",
    "fout = open('test.txt', 'r', encoding = 'utf-8')\n",
    "soup = BeautifulSoup(fout, 'lxml')\n",
    "list = soup.find_all('p')"
   ]
  },
  {
   "cell_type": "code",
   "execution_count": 25,
   "metadata": {},
   "outputs": [
    {
     "name": "stdout",
     "output_type": "stream",
     "text": [
      "[<p>我的第一个段落</p>, <p>我的第二个段落</p>, <p>我的第三个段落</p>]\n"
     ]
    }
   ],
   "source": [
    "print(list)"
   ]
  },
  {
   "cell_type": "code",
   "execution_count": 27,
   "metadata": {},
   "outputs": [
    {
     "name": "stdout",
     "output_type": "stream",
     "text": [
      "<p>我的第一个段落</p>\n",
      "<p>我的第二个段落</p>\n",
      "<p>我的第三个段落</p>\n"
     ]
    }
   ],
   "source": [
    "for i in list:\n",
    "    print(i)"
   ]
  },
  {
   "cell_type": "code",
   "execution_count": 30,
   "metadata": {},
   "outputs": [],
   "source": [
    "html = requests.get('https://price.pcauto.com.cn/comment/sg2734/', headers = keyValue)\n",
    "htmlText = BeautifulSoup(html.text, 'lxml')"
   ]
  },
  {
   "cell_type": "code",
   "execution_count": 31,
   "metadata": {},
   "outputs": [
    {
     "data": {
      "text/plain": [
       "[<div class=\"conLit youdian\"><b>优点：</b><span>空间还比较合适，舒适性不错！</span></div>,\n",
       " <div class=\"conLit youdian\"><b>优点：</b><span>宽敞的内部空间；同级竞品中从容的动力；优异的性价比。</span></div>,\n",
       " <div class=\"conLit youdian\"><b>优点：</b><span>外观？拜托我是外貌协会好不好，不就男人应该开的车，霸气有没有，要开就要开带劲的。</span></div>,\n",
       " <div class=\"conLit youdian\"><b>优点：</b><span>对我而言满意的是这种有时尚稳重感，配置不错，空间也还好，各方面都挺不错的</span></div>,\n",
       " <div class=\"conLit youdian\"><b>优点：</b><span>空间大，油耗低就是它的优点。</span></div>,\n",
       " <div class=\"conLit youdian\"><b>优点：</b><span>对于我这种超级屌丝，完全足够了。外观大气硬朗，不像某车看起来扭扭捏捏，也不像某车看起来软软弱弱。动力只要不吝啬油，那绝对给你信心。在高速上很稳，遇到横风弯道毫无压力。</span></div>,\n",
       " <div class=\"conLit youdian\"><b>优点：</b><span>时尚</span></div>,\n",
       " <div class=\"conLit youdian\"><b>优点：</b><span>感觉还可以,必定报价在那那放着呢</span></div>,\n",
       " <div class=\"conLit youdian\"><b>优点：</b><span>挺不错 就是硬塑感对比沉</span></div>]"
      ]
     },
     "execution_count": 31,
     "metadata": {},
     "output_type": "execute_result"
    }
   ],
   "source": [
    "htmlText.find_all('div', attrs = {'class': 'conLit youdian'})"
   ]
  },
  {
   "cell_type": "code",
   "execution_count": 38,
   "metadata": {},
   "outputs": [],
   "source": [
    "youdian = htmlText.find_all('div', attrs = {'class': 'conLit youdian'})\n",
    "quedian = htmlText.find_all('div', attrs = {'class': 'conLit quedian'})\n"
   ]
  },
  {
   "cell_type": "code",
   "execution_count": 40,
   "metadata": {},
   "outputs": [
    {
     "name": "stdout",
     "output_type": "stream",
     "text": [
      "[<span>空间还比较合适，舒适性不错！</span>]\n",
      "[<span>宽敞的内部空间；同级竞品中从容的动力；优异的性价比。</span>]\n",
      "[<span>外观？拜托我是外貌协会好不好，不就男人应该开的车，霸气有没有，要开就要开带劲的。</span>]\n",
      "[<span>对我而言满意的是这种有时尚稳重感，配置不错，空间也还好，各方面都挺不错的</span>]\n",
      "[<span>空间大，油耗低就是它的优点。</span>]\n",
      "[<span>对于我这种超级屌丝，完全足够了。外观大气硬朗，不像某车看起来扭扭捏捏，也不像某车看起来软软弱弱。动力只要不吝啬油，那绝对给你信心。在高速上很稳，遇到横风弯道毫无压力。</span>]\n",
      "[<span>时尚</span>]\n",
      "[<span>感觉还可以,必定报价在那那放着呢</span>]\n",
      "[<span>挺不错 就是硬塑感对比沉</span>]\n"
     ]
    }
   ],
   "source": [
    "for y in youdian:\n",
    "    print(y.find_all('span'))"
   ]
  },
  {
   "cell_type": "code",
   "execution_count": 41,
   "metadata": {},
   "outputs": [
    {
     "name": "stdout",
     "output_type": "stream",
     "text": [
      "[<span>价格虚高，没有一点优惠，后期加装的导航没多久就坏了，油耗比标示的油耗高多了！材质太薄，前面的雾灯之类的东西要掉的感觉！最坑的就是襄阳天和丰田的店面，从买车开始，处处都是坑！非常后悔选择了这家店购买这辆车！当初准备全款，销售员建议我办分期，收取分期手续费，上牌手续费，强制到他们店里购买高额的保险，分期到期解押还要交钱！反正是离了钱不说话！保养期限也不按照厂家要求，没有征求我同意，提前三个月就做了首保！说好的送优惠券可以使用，到用的时候还要强制消费才能减半使用，收取高额的分期手续费及上牌手续费！现在看到这辆车就非常的恼火！</span>]\n",
      "[<span>胎噪相对大，高速行驶时风噪也大，但是可以基本接受，准备抽空做隔音。</span>]\n",
      "[<span>还行还行还行还行还行还行还行还行还行还行还行还行还行还行还行还行还行还行还行还行还行还行还行还行还行还行还行还行还行还行还行还行还行还行还行还行还行还行还行还行还行还行还行还行还行还行还行还行还行还行</span>]\n",
      "[<span>卡罗拉期待已久的车子了，暂时没有发现什么缺点。</span>]\n",
      "[<span>内饰设计感没什么个性吧，看久了没什么新鲜感，比较一沉闷的风格</span>]\n",
      "[<span>急加速时，噪音大点，但是可以接受的。</span>]\n",
      "[<span>驾驶室两侧车门的储物格，中间那一层很鸡肋啊，不知道能放什么，基本放什么都不合适</span>]\n",
      "[<span>行驶中刹车脚刹会突然踩不动，无法刹车，一会儿恢复正常，这是人命关天的大问题，时刻当心会出车祸</span>]\n",
      "[<span>挺马马虎虎 加速稍慢</span>]\n",
      "[<span>个人觉得动力有些慢,但我也不是寻求个性,所以也无所谓。</span>]\n"
     ]
    }
   ],
   "source": [
    "for q in quedian:\n",
    "    print(q.find_all('span'))"
   ]
  },
  {
   "cell_type": "code",
   "execution_count": null,
   "metadata": {},
   "outputs": [],
   "source": []
  }
 ],
 "metadata": {
  "kernelspec": {
   "display_name": "Python 3",
   "language": "python",
   "name": "python3"
  },
  "language_info": {
   "codemirror_mode": {
    "name": "ipython",
    "version": 3
   },
   "file_extension": ".py",
   "mimetype": "text/x-python",
   "name": "python",
   "nbconvert_exporter": "python",
   "pygments_lexer": "ipython3",
   "version": "3.7.4"
  }
 },
 "nbformat": 4,
 "nbformat_minor": 4
}
